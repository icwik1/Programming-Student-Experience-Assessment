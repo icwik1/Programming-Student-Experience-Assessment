{
 "cells": [
  {
   "cell_type": "markdown",
   "metadata": {},
   "source": [
    "Read an integer and a list of positive integers (>0) from the user. You can decide on the list to be in any format.\n",
    "Find all pairs of numbers in the list that their sum is equal to the first number.\n",
    "Print out a formatted list of the pairs.\n",
    "While programming make sure that you style your code appropriately and provide relevant comments.\n",
    "For example:\n",
    "First number: 12\n",
    "The list: 3, 10, 4, 9, 8, 7, 4\n",
    "You have to find all pairs of numbers that add up to 12 (e.g. 3+9=12 ; 8+4=12)\n",
    "\n",
    "When receiving the input from user, you would allow duplicates.\n",
    "When finding the pairs, duplicates such as [6,6] are not considered. Moreover [4,8] or [8,4] would be considered as a single pair. "
   ]
  },
  {
   "cell_type": "code",
   "execution_count": 6,
   "metadata": {},
   "outputs": [
    {
     "name": "stdout",
     "output_type": "stream",
     "text": [
      "Give a number: 12\n",
      "Enter a list of numbers (use a space to seperate the numbers): 3 10 4 9 8 7 4 6 6\n",
      "{'[4, 8]', '[3, 9]'}\n"
     ]
    }
   ],
   "source": [
    "\"\"\"\n",
    "@author: Ishika Wikramanayake\n",
    "@date_created: 07-12-2018\n",
    "@last_modified: 07-12-2018\n",
    "\"\"\"\n",
    "\n",
    "n = int(input(\"Give a number: \"))\n",
    "the_list = [int(x) for x in input(\"Enter a list of numbers (use a space to seperate the numbers): \").split()]\n",
    "if len(the_list) > 1:\n",
    "    output_list = []\n",
    "    for i in range(len(the_list)):\n",
    "        for j in range(i+1, len(the_list)):\n",
    "            if the_list[i] != the_list[j]:\n",
    "                if (the_list[i] + the_list[j]) == n:\n",
    "                    if the_list[i] < the_list[j]:\n",
    "                        output_list.append(str([the_list[i], the_list[j]]))\n",
    "                    else:\n",
    "                        output_list.append(str([the_list[j], the_list[i]]))\n",
    "    if output_list == []:\n",
    "        print(\"There are no pairs that add upto \" + str(n))\n",
    "    else:\n",
    "        print(set(output_list))\n",
    "else:\n",
    "    print(\"You need at least 2 numbers. Please try again!\")"
   ]
  },
  {
   "cell_type": "code",
   "execution_count": null,
   "metadata": {},
   "outputs": [],
   "source": []
  }
 ],
 "metadata": {
  "kernelspec": {
   "display_name": "Python 3",
   "language": "python",
   "name": "python3"
  }
 },
 "nbformat": 4,
 "nbformat_minor": 2
}
